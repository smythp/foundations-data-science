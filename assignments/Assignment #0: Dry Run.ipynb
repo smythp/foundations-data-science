{
 "cells": [
  {
   "cell_type": "markdown",
   "id": "a04bb71e",
   "metadata": {},
   "source": [
    "# Math\n",
    "\n",
    "There are four cells below. In each cell, perform one operation each of addition, subtraction, multiplication, and division."
   ]
  },
  {
   "cell_type": "code",
   "execution_count": null,
   "id": "ee549a32",
   "metadata": {},
   "outputs": [],
   "source": []
  },
  {
   "cell_type": "code",
   "execution_count": null,
   "id": "fbae5830",
   "metadata": {},
   "outputs": [],
   "source": []
  },
  {
   "cell_type": "code",
   "execution_count": null,
   "id": "510012d5",
   "metadata": {},
   "outputs": [],
   "source": []
  },
  {
   "cell_type": "code",
   "execution_count": null,
   "id": "02670f38",
   "metadata": {},
   "outputs": [],
   "source": []
  },
  {
   "cell_type": "markdown",
   "id": "a06efe4f",
   "metadata": {},
   "source": [
    "# Variables\n",
    "\n",
    "In the following cell, assign two variables, then perform some operation on both. (For example, you could add them together.)"
   ]
  },
  {
   "cell_type": "code",
   "execution_count": null,
   "id": "a6f79b92",
   "metadata": {},
   "outputs": [],
   "source": []
  },
  {
   "cell_type": "markdown",
   "id": "f27c51d6",
   "metadata": {},
   "source": [
    "# Comparison\n",
    "\n",
    "In the following cell, compare two variables so that the output is True. (You can use >, <, == or any other comparison.)"
   ]
  },
  {
   "cell_type": "code",
   "execution_count": null,
   "id": "f03eec1c",
   "metadata": {},
   "outputs": [],
   "source": []
  },
  {
   "cell_type": "markdown",
   "id": "fa6232bd",
   "metadata": {},
   "source": [
    "In the following cell, perform a comparison for which the output is False."
   ]
  },
  {
   "cell_type": "code",
   "execution_count": null,
   "id": "4ae5251d",
   "metadata": {},
   "outputs": [],
   "source": []
  },
  {
   "cell_type": "markdown",
   "id": "8cab8764",
   "metadata": {},
   "source": [
    "# Conditionals\n",
    "\n",
    "In the cell below, write an \"if\" statement that ends in an \"else\" statement."
   ]
  },
  {
   "cell_type": "code",
   "execution_count": null,
   "id": "f7523751",
   "metadata": {},
   "outputs": [],
   "source": []
  },
  {
   "cell_type": "markdown",
   "id": "9d28b502",
   "metadata": {},
   "source": [
    "# Loops\n",
    "\n",
    "In the cell below, a list is defined with five numbers. In the cell after the list, write a for loop that adds 10 to each number and prints the output.\n",
    "\n",
    "Don't forget to run the cell with the list in it, or it won't get loaded into the computer's memory."
   ]
  },
  {
   "cell_type": "code",
   "execution_count": 5,
   "id": "e3031a71",
   "metadata": {},
   "outputs": [],
   "source": [
    "numbers = [5, 7, 15, 30, 33]"
   ]
  },
  {
   "cell_type": "code",
   "execution_count": null,
   "id": "85e7f5c8",
   "metadata": {},
   "outputs": [],
   "source": []
  }
 ],
 "metadata": {
  "kernelspec": {
   "display_name": "Python 3",
   "language": "python",
   "name": "python3"
  },
  "language_info": {
   "codemirror_mode": {
    "name": "ipython",
    "version": 3
   },
   "file_extension": ".py",
   "mimetype": "text/x-python",
   "name": "python",
   "nbconvert_exporter": "python",
   "pygments_lexer": "ipython3",
   "version": "3.8.8"
  }
 },
 "nbformat": 4,
 "nbformat_minor": 5
}
