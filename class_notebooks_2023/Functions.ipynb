{
 "cells": [
  {
   "cell_type": "markdown",
   "id": "d24a3e02",
   "metadata": {},
   "source": [
    "# Data Types Review\n",
    "\n",
    "At the beginning of class, we looked at data types again. The important takeaway is that the type matters for what you can do with that data. Even if a string is a number, for example, you won't be able to do math with it without turning it into an integer or float first."
   ]
  },
  {
   "cell_type": "code",
   "execution_count": null,
   "id": "0a5646df",
   "metadata": {},
   "outputs": [],
   "source": [
    "actually_a_string = \"2\""
   ]
  },
  {
   "cell_type": "code",
   "execution_count": 4,
   "id": "de1c8b62",
   "metadata": {},
   "outputs": [
    {
     "ename": "TypeError",
     "evalue": "can only concatenate str (not \"int\") to str",
     "output_type": "error",
     "traceback": [
      "\u001b[0;31m---------------------------------------------------------------------------\u001b[0m",
      "\u001b[0;31mTypeError\u001b[0m                                 Traceback (most recent call last)",
      "\u001b[0;32m<ipython-input-4-9075411eb22b>\u001b[0m in \u001b[0;36m<module>\u001b[0;34m\u001b[0m\n\u001b[0;32m----> 1\u001b[0;31m \u001b[0mactually_a_string\u001b[0m \u001b[0;34m+\u001b[0m \u001b[0;36m3\u001b[0m\u001b[0;34m\u001b[0m\u001b[0;34m\u001b[0m\u001b[0m\n\u001b[0m",
      "\u001b[0;31mTypeError\u001b[0m: can only concatenate str (not \"int\") to str"
     ]
    }
   ],
   "source": [
    "# We get an error when we try to do math\n",
    "# with the string\n",
    "actually_a_string + 3"
   ]
  },
  {
   "cell_type": "markdown",
   "id": "0f7cc477",
   "metadata": {},
   "source": [
    "We can turn the string into a number using the int() function\n"
   ]
  },
  {
   "cell_type": "code",
   "execution_count": 2,
   "id": "a191ccb7",
   "metadata": {},
   "outputs": [
    {
     "data": {
      "text/plain": [
       "7"
      ]
     },
     "execution_count": 2,
     "metadata": {},
     "output_type": "execute_result"
    }
   ],
   "source": [
    "now_an_integer = int(actually_a_string)\n",
    "\n",
    "now_an_integer + 5"
   ]
  },
  {
   "cell_type": "code",
   "execution_count": 4,
   "id": "c7401bd1",
   "metadata": {},
   "outputs": [
    {
     "data": {
      "text/plain": [
       "str"
      ]
     },
     "execution_count": 4,
     "metadata": {},
     "output_type": "execute_result"
    }
   ],
   "source": [
    "type(actually_a_string)"
   ]
  },
  {
   "cell_type": "code",
   "execution_count": 5,
   "id": "72653a41",
   "metadata": {},
   "outputs": [
    {
     "data": {
      "text/plain": [
       "int"
      ]
     },
     "execution_count": 5,
     "metadata": {},
     "output_type": "execute_result"
    }
   ],
   "source": [
    "type(now_an_integer)"
   ]
  },
  {
   "cell_type": "markdown",
   "id": "c947ab85",
   "metadata": {},
   "source": [
    "# Writing a Function\n",
    "\n",
    "We have been using functions all along in class, but we have never created one ourselves. Functions are a way to either:\n",
    "\n",
    "- Save some code so you can use it again later, perhaps multiple times\n",
    "- Take an input, do something to it, and return an output\n"
   ]
  },
  {
   "cell_type": "code",
   "execution_count": 6,
   "id": "a87db465",
   "metadata": {},
   "outputs": [],
   "source": [
    "def add_ten(number):\n",
    "    return number + 10"
   ]
  },
  {
   "cell_type": "markdown",
   "id": "812b52f2",
   "metadata": {},
   "source": [
    "The above function takes a number as variable `number`, adds ten to it, then returns the output."
   ]
  },
  {
   "cell_type": "code",
   "execution_count": 7,
   "id": "9d5d9e35",
   "metadata": {
    "scrolled": true
   },
   "outputs": [
    {
     "data": {
      "text/plain": [
       "40"
      ]
     },
     "execution_count": 7,
     "metadata": {},
     "output_type": "execute_result"
    }
   ],
   "source": [
    "add_ten(30)"
   ]
  },
  {
   "cell_type": "markdown",
   "id": "6ab21f8e",
   "metadata": {},
   "source": [
    "We can do stuff with the result:"
   ]
  },
  {
   "cell_type": "code",
   "execution_count": 8,
   "id": "df634d45",
   "metadata": {},
   "outputs": [
    {
     "data": {
      "text/plain": [
       "16"
      ]
     },
     "execution_count": 8,
     "metadata": {},
     "output_type": "execute_result"
    }
   ],
   "source": [
    "add_ten(1) + 5"
   ]
  },
  {
   "cell_type": "code",
   "execution_count": 9,
   "id": "4c7b2e43",
   "metadata": {},
   "outputs": [
    {
     "data": {
      "text/plain": [
       "70"
      ]
     },
     "execution_count": 9,
     "metadata": {},
     "output_type": "execute_result"
    }
   ],
   "source": [
    "add_ten(20) + add_ten(30)"
   ]
  },
  {
   "cell_type": "markdown",
   "id": "6db82e14",
   "metadata": {},
   "source": [
    "Something to keep in mind is that functions can either transform some data and return it, or do things unrelated to returning data. This is confusing because sometimes the other things a function does (\"side effects\") can look like data is being returned."
   ]
  },
  {
   "cell_type": "code",
   "execution_count": 10,
   "id": "03e88ee9",
   "metadata": {},
   "outputs": [],
   "source": [
    "def bad_poetry():\n",
    "    print(\"Roses are red\")\n",
    "    print(\"Violets are blue\")\n",
    "    print(\"Rice krispies are tasty\")\n",
    "    print(\"But not good for you\")"
   ]
  },
  {
   "cell_type": "code",
   "execution_count": 11,
   "id": "22be177b",
   "metadata": {},
   "outputs": [
    {
     "name": "stdout",
     "output_type": "stream",
     "text": [
      "Roses are red\n",
      "Violets are blue\n",
      "Rice krispies are tasty\n",
      "But not good for you\n"
     ]
    }
   ],
   "source": [
    "bad_poetry()"
   ]
  },
  {
   "cell_type": "markdown",
   "id": "15df4c9f",
   "metadata": {},
   "source": [
    "The above code looks like it returns some output. However, it just looks like it's returning output because of print(). If we try to do something with the output, like add another string to it, we'll get an error. The real output is None, representing no output."
   ]
  },
  {
   "cell_type": "code",
   "execution_count": 13,
   "id": "685b4452",
   "metadata": {},
   "outputs": [
    {
     "name": "stdout",
     "output_type": "stream",
     "text": [
      "Roses are red\n",
      "Violets are blue\n",
      "Rice krispies are tasty\n",
      "But not good for you\n"
     ]
    },
    {
     "ename": "TypeError",
     "evalue": "unsupported operand type(s) for +: 'NoneType' and 'str'",
     "output_type": "error",
     "traceback": [
      "\u001b[0;31m---------------------------------------------------------------------------\u001b[0m",
      "\u001b[0;31mTypeError\u001b[0m                                 Traceback (most recent call last)",
      "\u001b[0;32m<ipython-input-13-a984ed015286>\u001b[0m in \u001b[0;36m<module>\u001b[0;34m\u001b[0m\n\u001b[0;32m----> 1\u001b[0;31m \u001b[0mbad_poetry\u001b[0m\u001b[0;34m(\u001b[0m\u001b[0;34m)\u001b[0m \u001b[0;34m+\u001b[0m \u001b[0;34m\"That's the end of my poem.\"\u001b[0m\u001b[0;34m\u001b[0m\u001b[0;34m\u001b[0m\u001b[0m\n\u001b[0m",
      "\u001b[0;31mTypeError\u001b[0m: unsupported operand type(s) for +: 'NoneType' and 'str'"
     ]
    }
   ],
   "source": [
    "bad_poetry() + \"That's the end of my poem.\""
   ]
  },
  {
   "cell_type": "markdown",
   "id": "0ffd645b",
   "metadata": {},
   "source": [
    "We can see below that the output is None. First the function runs and we see the printed output, then we get the result of type(), which is None."
   ]
  },
  {
   "cell_type": "code",
   "execution_count": 14,
   "id": "34bfd3ee",
   "metadata": {},
   "outputs": [
    {
     "name": "stdout",
     "output_type": "stream",
     "text": [
      "Roses are red\n",
      "Violets are blue\n",
      "Rice krispies are tasty\n",
      "But not good for you\n"
     ]
    },
    {
     "data": {
      "text/plain": [
       "NoneType"
      ]
     },
     "execution_count": 14,
     "metadata": {},
     "output_type": "execute_result"
    }
   ],
   "source": [
    "type(bad_poetry())\n"
   ]
  },
  {
   "cell_type": "code",
   "execution_count": 19,
   "id": "89c38cb2",
   "metadata": {},
   "outputs": [],
   "source": [
    "def nothing():\n",
    "    pass"
   ]
  },
  {
   "cell_type": "code",
   "execution_count": 20,
   "id": "c9037606",
   "metadata": {},
   "outputs": [],
   "source": [
    "def add_20(number):\n",
    "    print(number + 20)"
   ]
  },
  {
   "cell_type": "code",
   "execution_count": 24,
   "id": "1bfe037e",
   "metadata": {},
   "outputs": [
    {
     "data": {
      "text/plain": [
       "NoneType"
      ]
     },
     "execution_count": 24,
     "metadata": {},
     "output_type": "execute_result"
    }
   ],
   "source": [
    "type(nothing())"
   ]
  },
  {
   "cell_type": "code",
   "execution_count": 26,
   "id": "bd94cc2a",
   "metadata": {},
   "outputs": [
    {
     "name": "stdout",
     "output_type": "stream",
     "text": [
      "30\n"
     ]
    }
   ],
   "source": [
    "add_20(10)"
   ]
  },
  {
   "cell_type": "code",
   "execution_count": 28,
   "id": "12a73112",
   "metadata": {},
   "outputs": [
    {
     "name": "stdout",
     "output_type": "stream",
     "text": [
      "30\n"
     ]
    },
    {
     "ename": "TypeError",
     "evalue": "unsupported operand type(s) for +: 'NoneType' and 'int'",
     "output_type": "error",
     "traceback": [
      "\u001b[0;31m---------------------------------------------------------------------------\u001b[0m",
      "\u001b[0;31mTypeError\u001b[0m                                 Traceback (most recent call last)",
      "\u001b[0;32m<ipython-input-28-3bb641f6b3ed>\u001b[0m in \u001b[0;36m<module>\u001b[0;34m\u001b[0m\n\u001b[1;32m      1\u001b[0m \u001b[0;31m# This will not work\u001b[0m\u001b[0;34m\u001b[0m\u001b[0;34m\u001b[0m\u001b[0;34m\u001b[0m\u001b[0m\n\u001b[1;32m      2\u001b[0m \u001b[0;31m# because no number is returned from the function\u001b[0m\u001b[0;34m\u001b[0m\u001b[0;34m\u001b[0m\u001b[0;34m\u001b[0m\u001b[0m\n\u001b[0;32m----> 3\u001b[0;31m \u001b[0madd_20\u001b[0m\u001b[0;34m(\u001b[0m\u001b[0;36m10\u001b[0m\u001b[0;34m)\u001b[0m \u001b[0;34m+\u001b[0m \u001b[0;36m5\u001b[0m\u001b[0;34m\u001b[0m\u001b[0;34m\u001b[0m\u001b[0m\n\u001b[0m",
      "\u001b[0;31mTypeError\u001b[0m: unsupported operand type(s) for +: 'NoneType' and 'int'"
     ]
    }
   ],
   "source": [
    "# This will not work \n",
    "# because no number is returned from the function\n",
    "add_20(10) + 5"
   ]
  },
  {
   "cell_type": "markdown",
   "id": "381a251f",
   "metadata": {},
   "source": [
    "# Weather program redux\n",
    "\n",
    "Below we rewrite our original weather program using functions."
   ]
  },
  {
   "cell_type": "code",
   "execution_count": 48,
   "id": "81e7c015",
   "metadata": {},
   "outputs": [],
   "source": [
    "def check_weather(weather_input):\n",
    "    if weather_input == weather:\n",
    "        return True\n",
    "    else:\n",
    "        return False"
   ]
  },
  {
   "cell_type": "code",
   "execution_count": 52,
   "id": "4eea1611",
   "metadata": {},
   "outputs": [
    {
     "data": {
      "text/plain": [
       "True"
      ]
     },
     "execution_count": 52,
     "metadata": {},
     "output_type": "execute_result"
    }
   ],
   "source": [
    "check_weather('windy')"
   ]
  },
  {
   "cell_type": "code",
   "execution_count": 53,
   "id": "1a00e56a",
   "metadata": {},
   "outputs": [
    {
     "name": "stdout",
     "output_type": "stream",
     "text": [
      "Fly your kite\n"
     ]
    }
   ],
   "source": [
    "weather = \"windy\"\n",
    "\n",
    "if check_weather('rainy'):\n",
    "    print(\"Bring your umbrella\")\n",
    "elif check_weather('sunny'):\n",
    "    print(\"Bring your shades\")\n",
    "elif check_weather('windy'):\n",
    "    print(\"Fly your kite\")\n",
    "else:\n",
    "    print('I do not know what you should do')"
   ]
  }
 ],
 "metadata": {
  "kernelspec": {
   "display_name": "Python 3",
   "language": "python",
   "name": "python3"
  },
  "language_info": {
   "codemirror_mode": {
    "name": "ipython",
    "version": 3
   },
   "file_extension": ".py",
   "mimetype": "text/x-python",
   "name": "python",
   "nbconvert_exporter": "python",
   "pygments_lexer": "ipython3",
   "version": "3.8.8"
  }
 },
 "nbformat": 4,
 "nbformat_minor": 5
}
