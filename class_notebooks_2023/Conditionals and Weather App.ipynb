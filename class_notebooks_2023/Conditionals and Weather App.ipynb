{
 "cells": [
  {
   "cell_type": "markdown",
   "id": "a337a035",
   "metadata": {},
   "source": [
    "# Variables\n",
    "\n",
    "A variables gives a name to a piece of data."
   ]
  },
  {
   "cell_type": "code",
   "execution_count": null,
   "id": "98454419",
   "metadata": {},
   "outputs": [],
   "source": [
    "name = \"patrick\"\n",
    "\n",
    "last_name = \"Smyth\"\n",
    "\n",
    "name + last_name"
   ]
  },
  {
   "cell_type": "markdown",
   "id": "680edd97",
   "metadata": {},
   "source": [
    "# Conditionals\n",
    "\n",
    "Conditionals allow you to compare two pieces of data. The conditional statement is determined to be either `True` or `False`. `True` and `False` are booleans, a specific kind of data representing true and false in Python."
   ]
  },
  {
   "cell_type": "code",
   "execution_count": 4,
   "id": "ecefd659",
   "metadata": {},
   "outputs": [
    {
     "data": {
      "text/plain": [
       "False"
      ]
     },
     "execution_count": 4,
     "metadata": {},
     "output_type": "execute_result"
    }
   ],
   "source": [
    "10 > 100"
   ]
  },
  {
   "cell_type": "code",
   "execution_count": 1,
   "id": "3b5b5bf2",
   "metadata": {
    "scrolled": true
   },
   "outputs": [
    {
     "data": {
      "text/plain": [
       "True"
      ]
     },
     "execution_count": 1,
     "metadata": {},
     "output_type": "execute_result"
    }
   ],
   "source": [
    "2 > 1"
   ]
  },
  {
   "cell_type": "code",
   "execution_count": 3,
   "id": "ed2ff3d3",
   "metadata": {},
   "outputs": [
    {
     "data": {
      "text/plain": [
       "True"
      ]
     },
     "execution_count": 3,
     "metadata": {},
     "output_type": "execute_result"
    }
   ],
   "source": [
    "5 == 5"
   ]
  },
  {
   "cell_type": "code",
   "execution_count": 4,
   "id": "d2925fad",
   "metadata": {},
   "outputs": [
    {
     "data": {
      "text/plain": [
       "False"
      ]
     },
     "execution_count": 4,
     "metadata": {},
     "output_type": "execute_result"
    }
   ],
   "source": [
    "5 == 10"
   ]
  },
  {
   "cell_type": "markdown",
   "id": "cd3a3dde",
   "metadata": {},
   "source": [
    "As ou can see above,  `==`  is used to compare two pieces to data to tell if they're equal. Try to not get confused with `=`, which gives a name to a piece of data!"
   ]
  },
  {
   "cell_type": "markdown",
   "id": "cbaa1293",
   "metadata": {},
   "source": [
    "# Weather App\n",
    "\n",
    "Let's use conditions, combined with the special if, elif, and else keywords, to write a small app."
   ]
  },
  {
   "cell_type": "code",
   "execution_count": 12,
   "id": "27505ae1",
   "metadata": {},
   "outputs": [
    {
     "name": "stdout",
     "output_type": "stream",
     "text": [
      "Wear your wooly muffler\n"
     ]
    }
   ],
   "source": [
    "weather = \"cold\"\n",
    "\n",
    "if weather == \"hot\":\n",
    "    print(\"Wear your shades\")\n",
    "elif weather == \"cold\":\n",
    "    print(\"Wear your wooly muffler\")\n",
    "elif weather == \"rain\":\n",
    "    print(\"Bring your brolly\")\n",
    "else:\n",
    "    print(\"I don't know what you should bring, I'm just a little program\")"
   ]
  }
 ],
 "metadata": {
  "kernelspec": {
   "display_name": "Python 3 (ipykernel)",
   "language": "python",
   "name": "python3"
  },
  "language_info": {
   "codemirror_mode": {
    "name": "ipython",
    "version": 3
   },
   "file_extension": ".py",
   "mimetype": "text/x-python",
   "name": "python",
   "nbconvert_exporter": "python",
   "pygments_lexer": "ipython3",
   "version": "3.8.9"
  }
 },
 "nbformat": 4,
 "nbformat_minor": 5
}
